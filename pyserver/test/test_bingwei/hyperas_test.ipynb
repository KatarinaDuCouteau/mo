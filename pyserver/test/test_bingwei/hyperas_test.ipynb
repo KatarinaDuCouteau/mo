{
 "cells": [
  {
   "cell_type": "code",
   "execution_count": 1,
   "metadata": {
    "collapsed": true
   },
   "outputs": [],
   "source": [
    "def my_data_function_template():\n",
    "    conf = {}\n",
    "    data_source_id = {}\n",
    "    kwargs = {}\n",
    "\n",
    "    from server3.service.model_service import manage_nn_input\n",
    "    input = manage_nn_input(conf, data_source_id, **kwargs)\n",
    "    x_train = input[\"x_tr\"]\n",
    "    y_train = input[\"y_tr\"]\n",
    "    x_test = input[\"x_te\"]\n",
    "    y_test = input[\"y_te\"]\n",
    "    return x_train, y_train, x_test, y_test"
   ]
  },
  {
   "cell_type": "code",
   "execution_count": 9,
   "metadata": {},
   "outputs": [],
   "source": [
    "import inspect\n",
    "\n",
    "\n",
    "def conf_to_data_function_str(conf, data_source_id, **kwarg):\n",
    "    data_function_str = inspect.getsource(my_data_function_template)\n",
    "    conf_str = \"conf = %s\\n\" % str(conf)\n",
    "    data_source_id_str = \"data_source_id = %s\\n\" % data_source_id\n",
    "    kwarg_str = \"kwarg = %s\\n\" % str({**kwarg})\n",
    "    data_function_str = data_function_str.replace(\"conf = {}\", conf_str)\n",
    "    data_function_str = data_function_str.replace(\"data_source_id = {}\", data_source_id_str)\n",
    "    data_function_str = data_function_str.replace(\"kwargs = {}\", kwarg_str)\n",
    "    # data_function_str = conf_str + data_source_id_str + kwarg_str + data_function_str\n",
    "    return data_function_str"
   ]
  },
  {
   "cell_type": "code",
   "execution_count": 5,
   "metadata": {},
   "outputs": [
    {
     "name": "stderr",
     "output_type": "stream",
     "text": [
      "Using TensorFlow backend.\n"
     ]
    },
    {
     "ename": "ModuleNotFoundError",
     "evalue": "No module named 'server3'",
     "traceback": [
      "\u001b[0;31m---------------------------------------------------------------------------\u001b[0m",
      "\u001b[0;31mModuleNotFoundError\u001b[0m                       Traceback (most recent call last)",
      "\u001b[0;32m<ipython-input-5-7c24ca298c76>\u001b[0m in \u001b[0;36m<module>\u001b[0;34m()\u001b[0m\n\u001b[1;32m     63\u001b[0m \u001b[0;32mimport\u001b[0m \u001b[0msys\u001b[0m\u001b[0;34m\u001b[0m\u001b[0m\n\u001b[1;32m     64\u001b[0m \u001b[0msys\u001b[0m\u001b[0;34m.\u001b[0m\u001b[0mpath\u001b[0m\u001b[0;34m.\u001b[0m\u001b[0mappend\u001b[0m\u001b[0;34m(\u001b[0m\u001b[0;34m\"../\"\u001b[0m\u001b[0;34m)\u001b[0m\u001b[0;34m\u001b[0m\u001b[0m\n\u001b[0;32m---> 65\u001b[0;31m \u001b[0;32mfrom\u001b[0m \u001b[0mpyserver\u001b[0m\u001b[0;34m.\u001b[0m\u001b[0mserver3\u001b[0m\u001b[0;34m.\u001b[0m\u001b[0mlib\u001b[0m\u001b[0;34m.\u001b[0m\u001b[0mmodels\u001b[0m\u001b[0;34m.\u001b[0m\u001b[0mhyperas_model\u001b[0m \u001b[0;32mimport\u001b[0m \u001b[0mconf_to_data_function_str\u001b[0m\u001b[0;34m\u001b[0m\u001b[0m\n\u001b[0m\u001b[1;32m     66\u001b[0m \u001b[0mdata_function_str\u001b[0m \u001b[0;34m=\u001b[0m \u001b[0mconf_to_data_function_str\u001b[0m\u001b[0;34m(\u001b[0m\u001b[0mconf\u001b[0m\u001b[0;34m,\u001b[0m \u001b[0mdata_source_id\u001b[0m\u001b[0;34m,\u001b[0m \u001b[0;34m**\u001b[0m\u001b[0mkwargs\u001b[0m\u001b[0;34m)\u001b[0m\u001b[0;34m\u001b[0m\u001b[0m\n\u001b[1;32m     67\u001b[0m \u001b[0mprint\u001b[0m\u001b[0;34m(\u001b[0m\u001b[0;34m\"data_function_str1\"\u001b[0m\u001b[0;34m,\u001b[0m \u001b[0mdata_function_str\u001b[0m\u001b[0;34m)\u001b[0m\u001b[0;34m\u001b[0m\u001b[0m\n",
      "\u001b[0;32m~/myPoject/gitRepo/goldersgreen/pyserver/server3/lib/models/__init__.py\u001b[0m in \u001b[0;36m<module>\u001b[0;34m()\u001b[0m\n\u001b[1;32m      1\u001b[0m \u001b[0;31m# -*- coding: UTF-8 -*-\u001b[0m\u001b[0;34m\u001b[0m\u001b[0;34m\u001b[0m\u001b[0m\n\u001b[1;32m      2\u001b[0m \u001b[0;31m# keras\u001b[0m\u001b[0;34m\u001b[0m\u001b[0;34m\u001b[0m\u001b[0m\n\u001b[0;32m----> 3\u001b[0;31m \u001b[0;32mfrom\u001b[0m \u001b[0mserver3\u001b[0m\u001b[0;34m.\u001b[0m\u001b[0mlib\u001b[0m\u001b[0;34m.\u001b[0m\u001b[0mmodels\u001b[0m\u001b[0;34m.\u001b[0m\u001b[0mkeras_seq\u001b[0m \u001b[0;32mimport\u001b[0m \u001b[0mKERAS_SEQ_SPEC\u001b[0m\u001b[0;34m\u001b[0m\u001b[0m\n\u001b[0m\u001b[1;32m      4\u001b[0m \u001b[0;32mfrom\u001b[0m \u001b[0mserver3\u001b[0m\u001b[0;34m.\u001b[0m\u001b[0mlib\u001b[0m\u001b[0;34m.\u001b[0m\u001b[0mmodels\u001b[0m\u001b[0;34m.\u001b[0m\u001b[0mkeras_seq\u001b[0m \u001b[0;32mimport\u001b[0m \u001b[0mkeras_seq\u001b[0m\u001b[0;34m\u001b[0m\u001b[0m\n\u001b[1;32m      5\u001b[0m \u001b[0;32mfrom\u001b[0m \u001b[0mserver3\u001b[0m\u001b[0;34m.\u001b[0m\u001b[0mlib\u001b[0m\u001b[0;34m.\u001b[0m\u001b[0mmodels\u001b[0m\u001b[0;34m.\u001b[0m\u001b[0mkeras_seq\u001b[0m \u001b[0;32mimport\u001b[0m \u001b[0mkeras_seq_to_str\u001b[0m\u001b[0;34m\u001b[0m\u001b[0m\n",
      "\u001b[0;31mModuleNotFoundError\u001b[0m: No module named 'server3'"
     ],
     "output_type": "error"
    }
   ],
   "source": [
    "conf = {\n",
    "           \"layers\": [\n",
    "               {\n",
    "                   \"name\": \"Dense\",\n",
    "                   \"args\": {\n",
    "                       \"units\": 64,\n",
    "                       \"activation\": \"relu\",\n",
    "                       \"input_shape\": [\n",
    "                           3\n",
    "                       ]\n",
    "                   }\n",
    "               },\n",
    "               {\n",
    "                   \"name\": \"Dropout\",\n",
    "                   \"args\": {\n",
    "                       \"rate\": 0.5\n",
    "                   }\n",
    "               },\n",
    "               {\n",
    "                   \"name\": \"Dense\",\n",
    "                   \"args\": {\n",
    "                       \"units\": 64,\n",
    "                       \"activation\": \"relu\"\n",
    "                   }\n",
    "               },\n",
    "               {\n",
    "                   \"name\": \"Dropout\",\n",
    "                   \"args\": {\n",
    "                       \"rate\": 0.5\n",
    "                   }\n",
    "               },\n",
    "               {\n",
    "                   \"name\": \"Dense\",\n",
    "                   \"args\": {\n",
    "                       \"units\": 2,\n",
    "                       \"activation\": \"softmax\"\n",
    "                   }\n",
    "               }\n",
    "           ],\n",
    "           \"compile\": {\n",
    "               \"args\": {\n",
    "                   \"loss\": \"categorical_crossentropy\",\n",
    "                   \"optimizer\": \"SGD\",\n",
    "                   \"metrics\": [\"accuracy\"]\n",
    "               }\n",
    "           },\n",
    "           \"fit\": {\n",
    "               \"data_fields\": [[\"age\", \"capital_gain\", \"education_num\"],\n",
    "                               [\"capital_loss\", \"hours_per_week\"]],\n",
    "               \"args\": {\n",
    "                   \"batch_size\": 128,\n",
    "                   \"epochs\": 20\n",
    "               }\n",
    "           },\n",
    "           \"evaluate\": {\n",
    "               \"args\": {\n",
    "                   \"batch_size\": 128\n",
    "               }\n",
    "           }\n",
    "       }\n",
    "data_source_id = \"sss\"\n",
    "kwargs = {\"a\": \"aa\"}\n",
    "import sys\n",
    "sys.path.append(\"../\")\n",
    "from pyserver.server3.lib.models.hyperas_model import conf_to_data_function_str\n",
    "data_function_str = conf_to_data_function_str(conf, data_source_id, **kwargs)\n",
    "print(\"data_function_str1\", data_function_str)"
   ]
  },
  {
   "cell_type": "code",
   "execution_count": 2,
   "metadata": {},
   "outputs": [
    {
     "name": "stdout",
     "output_type": "stream",
     "text": [
      "x\n"
     ]
    }
   ],
   "source": [
    "print(\"x\")"
   ]
  },
  {
   "cell_type": "code",
   "execution_count": 1,
   "metadata": {},
   "outputs": [],
   "source": [
    ""
   ]
  }
 ],
 "metadata": {
  "kernelspec": {
   "display_name": "Python 2",
   "language": "python",
   "name": "python2"
  },
  "language_info": {
   "codemirror_mode": {
    "name": "ipython",
    "version": 2.0
   },
   "file_extension": ".py",
   "mimetype": "text/x-python",
   "name": "python",
   "nbconvert_exporter": "python",
   "pygments_lexer": "ipython2",
   "version": "2.7.6"
  }
 },
 "nbformat": 4,
 "nbformat_minor": 0
}