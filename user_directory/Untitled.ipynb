{
 "cells": [
  {
   "cell_type": "code",
   "execution_count": 1,
   "metadata": {},
   "outputs": [
    {
     "name": "stdout",
     "output_type": "stream",
     "text": [
      "Untitled.ipynb           \u001b[34mdata\u001b[m\u001b[m/                    tensorflowvisu.py\r\n",
      "__init__.py              iris_test.csv            tensorflowvisu.pyc\r\n",
      "\u001b[34m__pycache__\u001b[m\u001b[m/             iris_training.csv        \u001b[34mtest\u001b[m\u001b[m/\r\n",
      "\u001b[34mboston housing\u001b[m\u001b[m/          \u001b[34mlibs\u001b[m\u001b[m/                    \u001b[34mtest_0531\u001b[m\u001b[m/\r\n",
      "\u001b[31mboston.py\u001b[m\u001b[m*               \u001b[34mlzfxxx\u001b[m\u001b[m/                  \u001b[34mtest_folder\u001b[m\u001b[m/\r\n",
      "\u001b[31mboston_predict.csv\u001b[m\u001b[m*      mnist_1.0_softmax.py     \u001b[34mtest_user\u001b[m\u001b[m/\r\n",
      "\u001b[31mboston_test.csv\u001b[m\u001b[m*         tensor.py                \u001b[34muser_0607\u001b[m\u001b[m/\r\n",
      "\u001b[31mboston_train.csv\u001b[m\u001b[m*        tensorflowvisu.mplstyle\r\n"
     ]
    }
   ],
   "source": [
    "ls"
   ]
  }
 ],
 "metadata": {
  "kernelspec": {
   "display_name": "Python 3",
   "language": "python",
   "name": "python3"
  },
  "language_info": {
   "codemirror_mode": {
    "name": "ipython",
    "version": 3
   },
   "file_extension": ".py",
   "mimetype": "text/x-python",
   "name": "python",
   "nbconvert_exporter": "python",
   "pygments_lexer": "ipython3",
   "version": "3.6.1"
  }
 },
 "nbformat": 4,
 "nbformat_minor": 2
}
