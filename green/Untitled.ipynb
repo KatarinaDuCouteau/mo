{
 "cells": [
  {
   "cell_type": "code",
   "execution_count": 1,
   "metadata": {},
   "outputs": [
    {
     "name": "stdout",
     "output_type": "stream",
     "text": [
      "Untitled.ipynb           \u001b[34mavg\u001b[m\u001b[m/                     tensor.py\r\n",
      "Untitled1.ipynb          \u001b[34mdata\u001b[m\u001b[m/                    tensorflowvisu.mplstyle\r\n",
      "Untitled2.ipynb          \u001b[34mfolder\u001b[m\u001b[m/                  tensorflowvisu.py\r\n",
      "Untitled3.ipynb          \u001b[34mhello\u001b[m\u001b[m/                   tensorflowvisu.pyc\r\n",
      "Untitled4.ipynb          \u001b[34mhello_test\u001b[m\u001b[m/              test_Importing.ipynb\r\n",
      "Untitled5.ipynb          iris_training.csv        \u001b[34mtest_folder\u001b[m\u001b[m/\r\n",
      "__init__.py              mnist_1.0_softmax.py     \u001b[34mwuyanzu\u001b[m\u001b[m/\r\n",
      "\u001b[34m__pycache__\u001b[m\u001b[m/             \u001b[34mnew_folder\u001b[m\u001b[m/\r\n",
      "\u001b[34maverage\u001b[m\u001b[m/                 \u001b[34mnew_one\u001b[m\u001b[m/\r\n"
     ]
    }
   ],
   "source": [
    "ls"
   ]
  },
  {
   "cell_type": "code",
   "execution_count": 4,
   "metadata": {},
   "outputs": [
    {
     "name": "stdout",
     "output_type": "stream",
     "text": [
      "Tensorflow version 1.1.0\n",
      "Extracting data/train-images-idx3-ubyte.gz\n",
      "Extracting data/train-labels-idx1-ubyte.gz\n",
      "Extracting data/t10k-images-idx3-ubyte.gz\n",
      "Extracting data/t10k-labels-idx1-ubyte.gz\n",
      "0: accuracy:0.07 loss:230.259\n",
      "\n",
      "0: epoch accuracy:0.098 loss:230.26\n",
      "\n",
      "50: accuracy:0.85 loss:48.3187\n",
      "\n",
      "100: accuracy:0.84 loss:56.8154\n",
      "\n",
      "150: accuracy:0.92 loss:34.5779\n",
      "\n",
      "200: accuracy:0.93 loss:26.239\n",
      "\n",
      "200: epoch accuracy:0.9002 loss:35.3337\n",
      "\n",
      "250: accuracy:0.83 loss:49.3324\n",
      "\n",
      "300: accuracy:0.85 loss:35.5263\n",
      "\n",
      "350: accuracy:0.89 loss:32.9911\n",
      "\n",
      "400: accuracy:0.95 loss:21.6023\n",
      "\n",
      "400: epoch accuracy:0.907 loss:32.2231\n",
      "\n",
      "450: accuracy:0.9 loss:34.5079\n",
      "\n",
      "500: accuracy:0.87 loss:39.0727\n",
      "\n",
      "550: accuracy:0.86 loss:37.2682\n",
      "\n",
      "600: accuracy:0.91 loss:29.0356\n",
      "\n",
      "600: epoch accuracy:0.916 loss:29.7602\n",
      "\n",
      "650: accuracy:0.96 loss:20.4718\n",
      "\n",
      "700: accuracy:0.9 loss:33.4117\n",
      "\n",
      "750: accuracy:0.88 loss:36.0516\n",
      "\n",
      "800: accuracy:0.85 loss:55.6336\n",
      "\n",
      "800: epoch accuracy:0.9111 loss:30.973\n",
      "\n",
      "850: accuracy:0.9 loss:47.8318\n",
      "\n",
      "900: accuracy:0.87 loss:40.4859\n",
      "\n",
      "950: accuracy:0.81 loss:57.5805\n",
      "\n",
      "1000: accuracy:0.89 loss:34.7976\n",
      "\n",
      "1000: epoch accuracy:0.9156 loss:29.6212\n",
      "\n",
      "1050: accuracy:0.94 loss:29.9799\n",
      "\n",
      "1100: accuracy:0.95 loss:19.863\n",
      "\n",
      "1150: accuracy:0.9 loss:32.4727\n",
      "\n",
      "1200: accuracy:0.93 loss:26.6906\n",
      "\n",
      "1200: epoch accuracy:0.9195 loss:28.7003\n",
      "\n",
      "1250: accuracy:0.91 loss:29.3786\n",
      "\n",
      "1300: accuracy:0.83 loss:50.6588\n",
      "\n",
      "1350: accuracy:0.87 loss:24.5301\n",
      "\n",
      "1400: accuracy:0.93 loss:26.8097\n",
      "\n",
      "1400: epoch accuracy:0.9173 loss:29.0098\n",
      "\n",
      "1450: accuracy:0.92 loss:25.6047\n",
      "\n",
      "1500: accuracy:0.95 loss:25.3777\n",
      "\n",
      "1550: accuracy:0.88 loss:44.8182\n",
      "\n",
      "1600: accuracy:0.95 loss:15.2471\n",
      "\n",
      "1600: epoch accuracy:0.9168 loss:29.0792\n",
      "\n",
      "1650: accuracy:0.89 loss:40.3292\n",
      "\n",
      "1700: accuracy:0.95 loss:22.4962\n",
      "\n",
      "1750: accuracy:0.96 loss:18.9485\n",
      "\n",
      "1800: accuracy:0.9 loss:34.5056\n",
      "\n",
      "1800: epoch accuracy:0.9197 loss:28.4538\n",
      "\n",
      "1850: accuracy:0.87 loss:32.3674\n",
      "\n",
      "1900: accuracy:0.95 loss:18.9936\n",
      "\n",
      "1950: accuracy:0.93 loss:24.4248\n",
      "\n",
      "2000: accuracy:0.93 loss:42.6305\n",
      "\n",
      "2000: epoch accuracy:0.921 loss:28.0742\n",
      "\n"
     ]
    }
   ],
   "source": [
    "%run mnist_1.0_softmax.py"
   ]
  },
  {
   "cell_type": "code",
   "execution_count": null,
   "metadata": {
    "collapsed": true
   },
   "outputs": [],
   "source": []
  }
 ],
 "metadata": {
  "kernelspec": {
   "display_name": "Python 3",
   "language": "python",
   "name": "python3"
  },
  "language_info": {
   "codemirror_mode": {
    "name": "ipython",
    "version": 3
   },
   "file_extension": ".py",
   "mimetype": "text/x-python",
   "name": "python",
   "nbconvert_exporter": "python",
   "pygments_lexer": "ipython3",
   "version": "3.6.1"
  }
 },
 "nbformat": 4,
 "nbformat_minor": 1
}
