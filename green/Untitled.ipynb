{
 "cells": [
  {
   "cell_type": "code",
   "execution_count": 1,
   "metadata": {},
   "outputs": [
    {
     "name": "stdout",
     "output_type": "stream",
     "text": [
      "Untitled.ipynb        \u001b[34mfolder\u001b[m\u001b[m/               \u001b[34mnew_one\u001b[m\u001b[m/\r\n",
      "__init__.py           \u001b[34mhello\u001b[m\u001b[m/                test_Importing.ipynb\r\n",
      "\u001b[34maverage\u001b[m\u001b[m/              \u001b[34mhello_test\u001b[m\u001b[m/           \u001b[34mtest_folder\u001b[m\u001b[m/\r\n",
      "\u001b[34mavg\u001b[m\u001b[m/                  \u001b[34mnew_folder\u001b[m\u001b[m/\r\n"
     ]
    }
   ],
   "source": [
    "ls"
   ]
  },
  {
   "cell_type": "code",
   "execution_count": 2,
   "metadata": {},
   "outputs": [
    {
     "name": "stdout",
     "output_type": "stream",
     "text": [
      "/Users/darthvader\n"
     ]
    }
   ],
   "source": [
    "cd"
   ]
  },
  {
   "cell_type": "code",
   "execution_count": 3,
   "metadata": {},
   "outputs": [
    {
     "name": "stdout",
     "output_type": "stream",
     "text": [
      "\u001b[34mAlwaysAround\u001b[m\u001b[m/                 \u001b[34melectronic-wechat\u001b[m\u001b[m/\r\n",
      "\u001b[34mAnacondaProjects\u001b[m\u001b[m/             \u001b[34mgoldersgreen\u001b[m\u001b[m/\r\n",
      "\u001b[34mApplications\u001b[m\u001b[m/                 \u001b[34mipython-demo\u001b[m\u001b[m/\r\n",
      "\u001b[34mAwesomeProject\u001b[m\u001b[m/               \u001b[34mipywidgets-master\u001b[m\u001b[m/\r\n",
      "\u001b[34mDesktop\u001b[m\u001b[m/                      java_error_in_idea.hprof\r\n",
      "\u001b[34mDocuments\u001b[m\u001b[m/                    \u001b[34mjupyter-js-widgets\u001b[m\u001b[m/\r\n",
      "\u001b[34mDownloads\u001b[m\u001b[m/                    \u001b[34mnode_modules\u001b[m\u001b[m/\r\n",
      "\u001b[34mDropbox\u001b[m\u001b[m/                      npm-debug.log\r\n",
      "\u001b[34mGitHub\u001b[m\u001b[m/                       \u001b[34mnvm\u001b[m\u001b[m/\r\n",
      "\u001b[34mLibrary\u001b[m\u001b[m/                      profile\r\n",
      "\u001b[34mMovies\u001b[m\u001b[m/                       \u001b[34mproject\u001b[m\u001b[m/\r\n",
      "\u001b[34mMusic\u001b[m\u001b[m/                        \u001b[34msenseware\u001b[m\u001b[m/\r\n",
      "\u001b[34mPictures\u001b[m\u001b[m/                     \u001b[34msocketio-location-simulation\u001b[m\u001b[m/\r\n",
      "\u001b[34mPropertyFinder\u001b[m\u001b[m/               \u001b[34mspace\u001b[m\u001b[m/\r\n",
      "\u001b[34mPublic\u001b[m\u001b[m/                       \u001b[34mwatchman\u001b[m\u001b[m/\r\n",
      "\u001b[34mSites\u001b[m\u001b[m/                        \u001b[34myelp\u001b[m\u001b[m/\r\n",
      "\u001b[34mToDoList\u001b[m\u001b[m/                     \u001b[34m~\u001b[m\u001b[m/\r\n"
     ]
    }
   ],
   "source": [
    "ls"
   ]
  },
  {
   "cell_type": "code",
   "execution_count": 4,
   "metadata": {},
   "outputs": [
    {
     "name": "stdout",
     "output_type": "stream",
     "text": [
      "/Users\n"
     ]
    }
   ],
   "source": [
    "cd .."
   ]
  },
  {
   "cell_type": "code",
   "execution_count": 5,
   "metadata": {},
   "outputs": [
    {
     "name": "stdout",
     "output_type": "stream",
     "text": [
      "\u001b[34mDeleted Users\u001b[m\u001b[m/ \u001b[34mGuest\u001b[m\u001b[m/         \u001b[30m\u001b[42mShared\u001b[m\u001b[m/        \u001b[34mdarthvader\u001b[m\u001b[m/\r\n"
     ]
    }
   ],
   "source": [
    "ls"
   ]
  },
  {
   "cell_type": "code",
   "execution_count": 6,
   "metadata": {},
   "outputs": [
    {
     "name": "stdout",
     "output_type": "stream",
     "text": [
      "/\n"
     ]
    }
   ],
   "source": [
    "cd /"
   ]
  },
  {
   "cell_type": "code",
   "execution_count": 7,
   "metadata": {},
   "outputs": [
    {
     "name": "stdout",
     "output_type": "stream",
     "text": [
      "\u001b[34mApplications\u001b[m\u001b[m/              \u001b[34mhome\u001b[m\u001b[m/\r\n",
      "\u001b[34mLibrary\u001b[m\u001b[m/                   installer.failurerequests\r\n",
      "\u001b[34mNetwork\u001b[m\u001b[m/                   \u001b[34mnet\u001b[m\u001b[m/\r\n",
      "\u001b[34mSystem\u001b[m\u001b[m/                    \u001b[34mopt\u001b[m\u001b[m/\r\n",
      "\u001b[34mUsers\u001b[m\u001b[m/                     \u001b[34mprivate\u001b[m\u001b[m/\r\n",
      "\u001b[34mVolumes\u001b[m\u001b[m/                   \u001b[34msbin\u001b[m\u001b[m/\r\n",
      "\u001b[34mbin\u001b[m\u001b[m/                       \u001b[35mtmp\u001b[m\u001b[m@\r\n",
      "\u001b[34mcores\u001b[m\u001b[m/                     \u001b[34musr\u001b[m\u001b[m/\r\n",
      "\u001b[34mdev\u001b[m\u001b[m/                       \u001b[35mvar\u001b[m\u001b[m@\r\n",
      "\u001b[35metc\u001b[m\u001b[m@\r\n"
     ]
    }
   ],
   "source": [
    "ls"
   ]
  },
  {
   "cell_type": "code",
   "execution_count": null,
   "metadata": {
    "collapsed": true
   },
   "outputs": [],
   "source": []
  }
 ],
 "metadata": {
  "kernelspec": {
   "display_name": "Python 2",
   "language": "python",
   "name": "python2"
  },
  "language_info": {
   "codemirror_mode": {
    "name": "ipython",
    "version": 2
   },
   "file_extension": ".py",
   "mimetype": "text/x-python",
   "name": "python",
   "nbconvert_exporter": "python",
   "pygments_lexer": "ipython2",
   "version": "2.7.10"
  }
 },
 "nbformat": 4,
 "nbformat_minor": 2
}
